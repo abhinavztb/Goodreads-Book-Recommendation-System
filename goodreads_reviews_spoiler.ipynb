{
 "cells": [
  {
   "cell_type": "markdown",
   "metadata": {},
   "source": [
    "# Display Sample Records"
   ]
  },
  {
   "cell_type": "code",
   "execution_count": 1,
   "metadata": {},
   "outputs": [],
   "source": [
    "import gzip\n",
    "import json\n",
    "import re\n",
    "import os\n",
    "import sys\n",
    "import numpy as np\n",
    "import pandas as pd"
   ]
  },
  {
   "cell_type": "markdown",
   "metadata": {},
   "source": [
    "**Specify your directory here:**"
   ]
  },
  {
   "cell_type": "code",
   "execution_count": 2,
   "metadata": {},
   "outputs": [],
   "source": [
    "DIR = '/Users/abhi/Downloads/goodreads_reviews_spoiler.json'"
   ]
  },
  {
   "cell_type": "markdown",
   "metadata": {},
   "source": [
    "**This function shows how to load datasets**"
   ]
  },
  {
   "cell_type": "code",
   "execution_count": 7,
   "metadata": {},
   "outputs": [],
   "source": [
    "def load_data(file_name,maxcount):\n",
    "    count = 0\n",
    "    data = []\n",
    "    with gzip.open(file_name) as fin:\n",
    "        for l in fin:\n",
    "            d = json.loads(l)\n",
    "            count += 1\n",
    "            data.append(d)\n",
    "            \n",
    "            # break if reaches the 100th line\n",
    "            if (count > maxcount):\n",
    "                break\n",
    "    return data"
   ]
  },
  {
   "cell_type": "code",
   "execution_count": 10,
   "metadata": {},
   "outputs": [],
   "source": [
    "df  = load_data('/Users/abhi/Downloads/goodreads_reviews_spoiler.json.gz',6500000)"
   ]
  },
  {
   "cell_type": "code",
   "execution_count": 11,
   "metadata": {},
   "outputs": [],
   "source": [
    "df = pd.DataFrame(df)"
   ]
  },
  {
   "cell_type": "code",
   "execution_count": 12,
   "metadata": {},
   "outputs": [
    {
     "name": "stdout",
     "output_type": "stream",
     "text": [
      "<class 'pandas.core.frame.DataFrame'>\n",
      "RangeIndex: 1378033 entries, 0 to 1378032\n",
      "Data columns (total 7 columns):\n",
      " #   Column            Non-Null Count    Dtype \n",
      "---  ------            --------------    ----- \n",
      " 0   user_id           1378033 non-null  object\n",
      " 1   timestamp         1378033 non-null  object\n",
      " 2   review_sentences  1378033 non-null  object\n",
      " 3   rating            1378033 non-null  int64 \n",
      " 4   has_spoiler       1378033 non-null  bool  \n",
      " 5   book_id           1378033 non-null  object\n",
      " 6   review_id         1378033 non-null  object\n",
      "dtypes: bool(1), int64(1), object(5)\n",
      "memory usage: 64.4+ MB\n"
     ]
    }
   ],
   "source": [
    "df.info()"
   ]
  },
  {
   "cell_type": "code",
   "execution_count": 13,
   "metadata": {},
   "outputs": [],
   "source": [
    "#Seleceting the books having spoiler\n",
    "df = df[df['has_spoiler'] == True]"
   ]
  },
  {
   "cell_type": "markdown",
   "metadata": {},
   "source": [
    "**Load and display sample records of books/authors/works/series**"
   ]
  },
  {
   "cell_type": "code",
   "execution_count": 17,
   "metadata": {},
   "outputs": [
    {
     "data": {
      "text/plain": [
       "(89627, 7)"
      ]
     },
     "execution_count": 17,
     "metadata": {},
     "output_type": "execute_result"
    }
   ],
   "source": [
    "df.shape"
   ]
  },
  {
   "cell_type": "code",
   "execution_count": 18,
   "metadata": {
    "scrolled": true
   },
   "outputs": [],
   "source": []
  },
  {
   "cell_type": "code",
   "execution_count": 67,
   "metadata": {},
   "outputs": [],
   "source": [
    "df=df.reset_index()"
   ]
  },
  {
   "cell_type": "code",
   "execution_count": 68,
   "metadata": {
    "scrolled": false
   },
   "outputs": [],
   "source": [
    "#Saving books having spoilers\n",
    "df.to_csv('/Users/abhi/Downloads/goodreads_with_spoilers.csv')"
   ]
  },
  {
   "cell_type": "code",
   "execution_count": 29,
   "metadata": {},
   "outputs": [
    {
     "name": "stdout",
     "output_type": "stream",
     "text": [
      "Dataset contains 89627 rows and 7 columns\n"
     ]
    }
   ],
   "source": [
    "print(\"Dataset contains {} rows and {} columns\".format(df.shape[0], df.shape[1]))"
   ]
  },
  {
   "cell_type": "code",
   "execution_count": 69,
   "metadata": {},
   "outputs": [
    {
     "data": {
      "text/html": [
       "<div>\n",
       "<style scoped>\n",
       "    .dataframe tbody tr th:only-of-type {\n",
       "        vertical-align: middle;\n",
       "    }\n",
       "\n",
       "    .dataframe tbody tr th {\n",
       "        vertical-align: top;\n",
       "    }\n",
       "\n",
       "    .dataframe thead th {\n",
       "        text-align: right;\n",
       "    }\n",
       "</style>\n",
       "<table border=\"1\" class=\"dataframe\">\n",
       "  <thead>\n",
       "    <tr style=\"text-align: right;\">\n",
       "      <th></th>\n",
       "      <th>index</th>\n",
       "      <th>user_id</th>\n",
       "      <th>timestamp</th>\n",
       "      <th>review_sentences</th>\n",
       "      <th>rating</th>\n",
       "      <th>has_spoiler</th>\n",
       "      <th>book_id</th>\n",
       "      <th>review_id</th>\n",
       "    </tr>\n",
       "  </thead>\n",
       "  <tbody>\n",
       "    <tr>\n",
       "      <th>0</th>\n",
       "      <td>0</td>\n",
       "      <td>8842281e1d1347389f2ab93d60773d4d</td>\n",
       "      <td>2017-08-30</td>\n",
       "      <td>[[0, This is a special book.], [0, It started ...</td>\n",
       "      <td>5</td>\n",
       "      <td>True</td>\n",
       "      <td>18245960</td>\n",
       "      <td>dfdbb7b0eb5a7e4c26d59a937e2e5feb</td>\n",
       "    </tr>\n",
       "    <tr>\n",
       "      <th>1</th>\n",
       "      <td>2</td>\n",
       "      <td>8842281e1d1347389f2ab93d60773d4d</td>\n",
       "      <td>2017-03-20</td>\n",
       "      <td>[[0, A fun, fast paced science fiction thrille...</td>\n",
       "      <td>3</td>\n",
       "      <td>True</td>\n",
       "      <td>28684704</td>\n",
       "      <td>2ede853b14dc4583f96cf5d120af636f</td>\n",
       "    </tr>\n",
       "    <tr>\n",
       "      <th>2</th>\n",
       "      <td>4</td>\n",
       "      <td>8842281e1d1347389f2ab93d60773d4d</td>\n",
       "      <td>2016-04-25</td>\n",
       "      <td>[[0, I really enjoyed this book, and there is ...</td>\n",
       "      <td>4</td>\n",
       "      <td>True</td>\n",
       "      <td>25884323</td>\n",
       "      <td>332732725863131279a8e345b63ac33e</td>\n",
       "    </tr>\n",
       "    <tr>\n",
       "      <th>3</th>\n",
       "      <td>12</td>\n",
       "      <td>8842281e1d1347389f2ab93d60773d4d</td>\n",
       "      <td>2014-07-26</td>\n",
       "      <td>[[0, What a fun series.], [0, I loved Wool, an...</td>\n",
       "      <td>4</td>\n",
       "      <td>True</td>\n",
       "      <td>17855756</td>\n",
       "      <td>9db60af739f79f40c0016b924a5326b4</td>\n",
       "    </tr>\n",
       "    <tr>\n",
       "      <th>4</th>\n",
       "      <td>20</td>\n",
       "      <td>8842281e1d1347389f2ab93d60773d4d</td>\n",
       "      <td>2014-07-26</td>\n",
       "      <td>[[0, A fun fast paced book that sucks you in r...</td>\n",
       "      <td>4</td>\n",
       "      <td>True</td>\n",
       "      <td>13453029</td>\n",
       "      <td>46a6e1a14e8afc82d221fec0a2bd3dd0</td>\n",
       "    </tr>\n",
       "  </tbody>\n",
       "</table>\n",
       "</div>"
      ],
      "text/plain": [
       "   index                           user_id   timestamp  \\\n",
       "0      0  8842281e1d1347389f2ab93d60773d4d  2017-08-30   \n",
       "1      2  8842281e1d1347389f2ab93d60773d4d  2017-03-20   \n",
       "2      4  8842281e1d1347389f2ab93d60773d4d  2016-04-25   \n",
       "3     12  8842281e1d1347389f2ab93d60773d4d  2014-07-26   \n",
       "4     20  8842281e1d1347389f2ab93d60773d4d  2014-07-26   \n",
       "\n",
       "                                    review_sentences  rating  has_spoiler  \\\n",
       "0  [[0, This is a special book.], [0, It started ...       5         True   \n",
       "1  [[0, A fun, fast paced science fiction thrille...       3         True   \n",
       "2  [[0, I really enjoyed this book, and there is ...       4         True   \n",
       "3  [[0, What a fun series.], [0, I loved Wool, an...       4         True   \n",
       "4  [[0, A fun fast paced book that sucks you in r...       4         True   \n",
       "\n",
       "    book_id                         review_id  \n",
       "0  18245960  dfdbb7b0eb5a7e4c26d59a937e2e5feb  \n",
       "1  28684704  2ede853b14dc4583f96cf5d120af636f  \n",
       "2  25884323  332732725863131279a8e345b63ac33e  \n",
       "3  17855756  9db60af739f79f40c0016b924a5326b4  \n",
       "4  13453029  46a6e1a14e8afc82d221fec0a2bd3dd0  "
      ]
     },
     "execution_count": 69,
     "metadata": {},
     "output_type": "execute_result"
    }
   ],
   "source": [
    "df.head()"
   ]
  },
  {
   "cell_type": "code",
   "execution_count": 83,
   "metadata": {},
   "outputs": [],
   "source": [
    "#generating random choice my df\n",
    "import random\n",
    "def generate_user(df,bookcount):\n",
    "    books=[]\n",
    "    for i in range(bookcount):\n",
    "        res = random.randint(1, df.shape[0])\n",
    "        books.append([1,df['book_id'][res],df['rating'][res]])\n",
    "    mydf=pd.DataFrame(books,columns=['user_id','book_id','rating'])\n",
    "    return mydf\n",
    "        \n",
    "    "
   ]
  },
  {
   "cell_type": "code",
   "execution_count": 87,
   "metadata": {},
   "outputs": [],
   "source": [
    "mydf=generate_user(df,10)"
   ]
  },
  {
   "cell_type": "markdown",
   "metadata": {},
   "source": [
    "**Load and display sample records of user-book interactions (shelves)**"
   ]
  },
  {
   "cell_type": "code",
   "execution_count": 88,
   "metadata": {},
   "outputs": [
    {
     "data": {
      "text/plain": [
       "16040"
      ]
     },
     "execution_count": 88,
     "metadata": {},
     "output_type": "execute_result"
    }
   ],
   "source": [
    "len(df['user_id'].unique())"
   ]
  },
  {
   "cell_type": "code",
   "execution_count": 89,
   "metadata": {},
   "outputs": [
    {
     "data": {
      "text/plain": [
       "24558"
      ]
     },
     "execution_count": 89,
     "metadata": {},
     "output_type": "execute_result"
    }
   ],
   "source": [
    "len(df['book_id'].unique())"
   ]
  },
  {
   "cell_type": "markdown",
   "metadata": {},
   "source": [
    "**Load and display similiar users who read one of the books as per our preference**"
   ]
  },
  {
   "cell_type": "code",
   "execution_count": 98,
   "metadata": {},
   "outputs": [],
   "source": [
    "my_bookid= set(mydf['book_id'])"
   ]
  },
  {
   "cell_type": "code",
   "execution_count": 99,
   "metadata": {},
   "outputs": [
    {
     "data": {
      "text/plain": [
       "{'15714522',\n",
       " '16159833',\n",
       " '18221931',\n",
       " '18247580',\n",
       " '18660447',\n",
       " '20821111',\n",
       " '2282133',\n",
       " '24357334',\n",
       " '28862254',\n",
       " '4957350'}"
      ]
     },
     "execution_count": 99,
     "metadata": {},
     "output_type": "execute_result"
    }
   ],
   "source": [
    "my_bookid\n"
   ]
  },
  {
   "cell_type": "code",
   "execution_count": 92,
   "metadata": {},
   "outputs": [],
   "source": [
    "df = df[df['book_id'].isin(my_bookid)]"
   ]
  },
  {
   "cell_type": "code",
   "execution_count": 93,
   "metadata": {},
   "outputs": [
    {
     "name": "stdout",
     "output_type": "stream",
     "text": [
      "<class 'pandas.core.frame.DataFrame'>\n",
      "Int64Index: 182 entries, 179 to 89049\n",
      "Data columns (total 8 columns):\n",
      " #   Column            Non-Null Count  Dtype \n",
      "---  ------            --------------  ----- \n",
      " 0   index             182 non-null    int64 \n",
      " 1   user_id           182 non-null    object\n",
      " 2   timestamp         182 non-null    object\n",
      " 3   review_sentences  182 non-null    object\n",
      " 4   rating            182 non-null    int64 \n",
      " 5   has_spoiler       182 non-null    bool  \n",
      " 6   book_id           182 non-null    object\n",
      " 7   review_id         182 non-null    object\n",
      "dtypes: bool(1), int64(2), object(5)\n",
      "memory usage: 11.6+ KB\n"
     ]
    }
   ],
   "source": [
    "df.info()"
   ]
  },
  {
   "cell_type": "markdown",
   "metadata": {},
   "source": [
    "**Load and display similiar records of users as per our book preference**"
   ]
  },
  {
   "cell_type": "code",
   "execution_count": 97,
   "metadata": {},
   "outputs": [
    {
     "data": {
      "text/html": [
       "<div>\n",
       "<style scoped>\n",
       "    .dataframe tbody tr th:only-of-type {\n",
       "        vertical-align: middle;\n",
       "    }\n",
       "\n",
       "    .dataframe tbody tr th {\n",
       "        vertical-align: top;\n",
       "    }\n",
       "\n",
       "    .dataframe thead th {\n",
       "        text-align: right;\n",
       "    }\n",
       "</style>\n",
       "<table border=\"1\" class=\"dataframe\">\n",
       "  <thead>\n",
       "    <tr style=\"text-align: right;\">\n",
       "      <th></th>\n",
       "      <th>index</th>\n",
       "      <th>user_id</th>\n",
       "      <th>timestamp</th>\n",
       "      <th>review_sentences</th>\n",
       "      <th>rating</th>\n",
       "      <th>has_spoiler</th>\n",
       "      <th>book_id</th>\n",
       "      <th>review_id</th>\n",
       "    </tr>\n",
       "  </thead>\n",
       "  <tbody>\n",
       "    <tr>\n",
       "      <th>179</th>\n",
       "      <td>3007</td>\n",
       "      <td>d8c86e725d683042e9eec675f294d7d4</td>\n",
       "      <td>2016-12-17</td>\n",
       "      <td>[[0, I loved this book.], [0, The pace was jus...</td>\n",
       "      <td>4</td>\n",
       "      <td>True</td>\n",
       "      <td>20821111</td>\n",
       "      <td>e6600a216e50b53203c70307e80825cc</td>\n",
       "    </tr>\n",
       "    <tr>\n",
       "      <th>447</th>\n",
       "      <td>6927</td>\n",
       "      <td>1c845473e18c23f917126cb29bc8d243</td>\n",
       "      <td>2016-10-14</td>\n",
       "      <td>[[0, This was a great first book.], [0, I love...</td>\n",
       "      <td>4</td>\n",
       "      <td>True</td>\n",
       "      <td>20821111</td>\n",
       "      <td>22b6339e2845d8c2ea6d1098dc02aed8</td>\n",
       "    </tr>\n",
       "    <tr>\n",
       "      <th>583</th>\n",
       "      <td>9146</td>\n",
       "      <td>d76881f6f75216d6f25479114c66b62c</td>\n",
       "      <td>2015-06-18</td>\n",
       "      <td>[[0, I was given an ARC copy by the publisher ...</td>\n",
       "      <td>5</td>\n",
       "      <td>True</td>\n",
       "      <td>18660447</td>\n",
       "      <td>05ecac97fc28e29e5f5983d023718fd1</td>\n",
       "    </tr>\n",
       "    <tr>\n",
       "      <th>2701</th>\n",
       "      <td>42566</td>\n",
       "      <td>44f6eb8bb8e32716ab8e6f68b00c54ff</td>\n",
       "      <td>2013-10-08</td>\n",
       "      <td>[[0, ARC Provided by Author for Honest Review]...</td>\n",
       "      <td>4</td>\n",
       "      <td>True</td>\n",
       "      <td>18221931</td>\n",
       "      <td>2e8a268b9f6adb7546036c58c3a57a88</td>\n",
       "    </tr>\n",
       "    <tr>\n",
       "      <th>3020</th>\n",
       "      <td>44643</td>\n",
       "      <td>607c94be8e31b66db06b4cf4420f9f0d</td>\n",
       "      <td>2015-05-20</td>\n",
       "      <td>[[0, SOOOOO MANY FEEEEEEEEEEEEEEEEELLLLLLLLLLL...</td>\n",
       "      <td>5</td>\n",
       "      <td>True</td>\n",
       "      <td>2282133</td>\n",
       "      <td>0b0cbd57bac3d85e763a2ce0055e7502</td>\n",
       "    </tr>\n",
       "  </tbody>\n",
       "</table>\n",
       "</div>"
      ],
      "text/plain": [
       "      index                           user_id   timestamp  \\\n",
       "179    3007  d8c86e725d683042e9eec675f294d7d4  2016-12-17   \n",
       "447    6927  1c845473e18c23f917126cb29bc8d243  2016-10-14   \n",
       "583    9146  d76881f6f75216d6f25479114c66b62c  2015-06-18   \n",
       "2701  42566  44f6eb8bb8e32716ab8e6f68b00c54ff  2013-10-08   \n",
       "3020  44643  607c94be8e31b66db06b4cf4420f9f0d  2015-05-20   \n",
       "\n",
       "                                       review_sentences  rating  has_spoiler  \\\n",
       "179   [[0, I loved this book.], [0, The pace was jus...       4         True   \n",
       "447   [[0, This was a great first book.], [0, I love...       4         True   \n",
       "583   [[0, I was given an ARC copy by the publisher ...       5         True   \n",
       "2701  [[0, ARC Provided by Author for Honest Review]...       4         True   \n",
       "3020  [[0, SOOOOO MANY FEEEEEEEEEEEEEEEEELLLLLLLLLLL...       5         True   \n",
       "\n",
       "       book_id                         review_id  \n",
       "179   20821111  e6600a216e50b53203c70307e80825cc  \n",
       "447   20821111  22b6339e2845d8c2ea6d1098dc02aed8  \n",
       "583   18660447  05ecac97fc28e29e5f5983d023718fd1  \n",
       "2701  18221931  2e8a268b9f6adb7546036c58c3a57a88  \n",
       "3020   2282133  0b0cbd57bac3d85e763a2ce0055e7502  "
      ]
     },
     "execution_count": 97,
     "metadata": {},
     "output_type": "execute_result"
    }
   ],
   "source": [
    "df.head()"
   ]
  },
  {
   "cell_type": "code",
   "execution_count": 34,
   "metadata": {},
   "outputs": [
    {
     "name": "stderr",
     "output_type": "stream",
     "text": [
      "/Users/abhi/opt/anaconda3/lib/python3.9/site-packages/sklearn/manifold/_t_sne.py:780: FutureWarning: The default initialization in TSNE will change from 'random' to 'pca' in 1.2.\n",
      "  warnings.warn(\n",
      "/Users/abhi/opt/anaconda3/lib/python3.9/site-packages/sklearn/manifold/_t_sne.py:790: FutureWarning: The default learning rate in TSNE will change from 200.0 to 'auto' in 1.2.\n",
      "  warnings.warn(\n"
     ]
    },
    {
     "name": "stdout",
     "output_type": "stream",
     "text": [
      "[t-SNE] Computing 91 nearest neighbors...\n",
      "[t-SNE] Indexed 51499 samples in 0.025s...\n",
      "[t-SNE] Computed neighbors for 51499 samples in 1.296s...\n",
      "[t-SNE] Computed conditional probabilities for sample 1000 / 51499\n",
      "[t-SNE] Computed conditional probabilities for sample 2000 / 51499\n",
      "[t-SNE] Computed conditional probabilities for sample 3000 / 51499\n",
      "[t-SNE] Computed conditional probabilities for sample 4000 / 51499\n",
      "[t-SNE] Computed conditional probabilities for sample 5000 / 51499\n",
      "[t-SNE] Computed conditional probabilities for sample 6000 / 51499\n",
      "[t-SNE] Computed conditional probabilities for sample 7000 / 51499\n",
      "[t-SNE] Computed conditional probabilities for sample 8000 / 51499\n",
      "[t-SNE] Computed conditional probabilities for sample 9000 / 51499\n",
      "[t-SNE] Computed conditional probabilities for sample 10000 / 51499\n",
      "[t-SNE] Computed conditional probabilities for sample 11000 / 51499\n",
      "[t-SNE] Computed conditional probabilities for sample 12000 / 51499\n",
      "[t-SNE] Computed conditional probabilities for sample 13000 / 51499\n",
      "[t-SNE] Computed conditional probabilities for sample 14000 / 51499\n",
      "[t-SNE] Computed conditional probabilities for sample 15000 / 51499\n",
      "[t-SNE] Computed conditional probabilities for sample 16000 / 51499\n",
      "[t-SNE] Computed conditional probabilities for sample 17000 / 51499\n",
      "[t-SNE] Computed conditional probabilities for sample 18000 / 51499\n",
      "[t-SNE] Computed conditional probabilities for sample 19000 / 51499\n",
      "[t-SNE] Computed conditional probabilities for sample 20000 / 51499\n",
      "[t-SNE] Computed conditional probabilities for sample 21000 / 51499\n",
      "[t-SNE] Computed conditional probabilities for sample 22000 / 51499\n",
      "[t-SNE] Computed conditional probabilities for sample 23000 / 51499\n",
      "[t-SNE] Computed conditional probabilities for sample 24000 / 51499\n",
      "[t-SNE] Computed conditional probabilities for sample 25000 / 51499\n",
      "[t-SNE] Computed conditional probabilities for sample 26000 / 51499\n",
      "[t-SNE] Computed conditional probabilities for sample 27000 / 51499\n",
      "[t-SNE] Computed conditional probabilities for sample 28000 / 51499\n",
      "[t-SNE] Computed conditional probabilities for sample 29000 / 51499\n",
      "[t-SNE] Computed conditional probabilities for sample 30000 / 51499\n",
      "[t-SNE] Computed conditional probabilities for sample 31000 / 51499\n",
      "[t-SNE] Computed conditional probabilities for sample 32000 / 51499\n",
      "[t-SNE] Computed conditional probabilities for sample 33000 / 51499\n",
      "[t-SNE] Computed conditional probabilities for sample 34000 / 51499\n",
      "[t-SNE] Computed conditional probabilities for sample 35000 / 51499\n",
      "[t-SNE] Computed conditional probabilities for sample 36000 / 51499\n",
      "[t-SNE] Computed conditional probabilities for sample 37000 / 51499\n",
      "[t-SNE] Computed conditional probabilities for sample 38000 / 51499\n",
      "[t-SNE] Computed conditional probabilities for sample 39000 / 51499\n",
      "[t-SNE] Computed conditional probabilities for sample 40000 / 51499\n",
      "[t-SNE] Computed conditional probabilities for sample 41000 / 51499\n",
      "[t-SNE] Computed conditional probabilities for sample 42000 / 51499\n",
      "[t-SNE] Computed conditional probabilities for sample 43000 / 51499\n",
      "[t-SNE] Computed conditional probabilities for sample 44000 / 51499\n",
      "[t-SNE] Computed conditional probabilities for sample 45000 / 51499\n",
      "[t-SNE] Computed conditional probabilities for sample 46000 / 51499\n",
      "[t-SNE] Computed conditional probabilities for sample 47000 / 51499\n",
      "[t-SNE] Computed conditional probabilities for sample 48000 / 51499\n",
      "[t-SNE] Computed conditional probabilities for sample 49000 / 51499\n",
      "[t-SNE] Computed conditional probabilities for sample 50000 / 51499\n",
      "[t-SNE] Computed conditional probabilities for sample 51000 / 51499\n",
      "[t-SNE] Computed conditional probabilities for sample 51499 / 51499\n",
      "[t-SNE] Mean sigma: 0.000000\n",
      "[t-SNE] KL divergence after 250 iterations with early exaggeration: 65.938789\n",
      "[t-SNE] KL divergence after 1000 iterations: 0.934023\n"
     ]
    }
   ],
   "source": [
    "from sklearn.manifold import TSNE\n",
    "tsne = TSNE(n_components=2, verbose=1, random_state=123)\n",
    "z = tsne.fit_transform(df_sample_tsne) "
   ]
  },
  {
   "cell_type": "code",
   "execution_count": 35,
   "metadata": {},
   "outputs": [
    {
     "data": {
      "text/plain": [
       "[Text(0.5, 1.0, 'Goodreads Data T-SNE projection')]"
      ]
     },
     "execution_count": 35,
     "metadata": {},
     "output_type": "execute_result"
    },
    {
     "data": {
      "image/png": "[encoded data removed]",
      "text/plain": [
       "<Figure size 432x288 with 1 Axes>"
      ]
     },
     "metadata": {
      "needs_background": "light"
     },
     "output_type": "display_data"
    }
   ],
   "source": [
    "import seaborn as sns\n",
    "df_tsne = pd.DataFrame()\n",
    "df_tsne[\"book_id\"] = df_sample['book_id']\n",
    "df_tsne[\"component1\"] = z[:,0]\n",
    "df_tsne[\"component2\"] = z[:,1]\n",
    "df_tsne\n",
    "sns.scatterplot(x=\"component1\", y=\"component2\", #hue=df_tsne.book_id.tolist(),\n",
    "               #palette=sns.color_palette(\"hls\"),\n",
    "                data=df_tsne).set(title=\"Goodreads Data T-SNE projection\") "
   ]
  },
  {
   "cell_type": "code",
   "execution_count": null,
   "metadata": {},
   "outputs": [],
   "source": []
  }
 ],
 "metadata": {
  "kernelspec": {
   "display_name": "Python 3 (ipykernel)",
   "language": "python",
   "name": "python3"
  },
  "language_info": {
   "codemirror_mode": {
    "name": "ipython",
    "version": 3
   },
   "file_extension": ".py",
   "mimetype": "text/x-python",
   "name": "python",
   "nbconvert_exporter": "python",
   "pygments_lexer": "ipython3",
   "version": "3.9.12"
  }
 },
 "nbformat": 4,
 "nbformat_minor": 2
}
